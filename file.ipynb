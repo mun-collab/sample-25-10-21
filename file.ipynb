{
 "cells": [
  {
   "cell_type": "code",
   "execution_count": 24,
   "id": "fc3d165a",
   "metadata": {},
   "outputs": [],
   "source": [
    "import os\n",
    "from datetime import datetime\n",
    "import shutil\n",
    "from glob import glob\n",
    "\n",
    "file_paths = glob('memo/*.txt')\n",
    "\n",
    "for file_path in file_paths:\n",
    "    stat = os.stat(file_path)\n",
    "    created_time = stat.st_birthtime\n",
    "\n",
    "    created_time = datetime.fromtimestamp(created_time)\n",
    "\n",
    "    year = created_time.year\n",
    "    month = created_time.month\n",
    "    day = created_time.day\n",
    "    \n",
    "    file_name = file_path.split(\"/\")[1]\n",
    "    new_file_name = f\"{year}年{month}月{day}日_{file_name}\"\n",
    "    os.rename(file_path, f\"memo/{new_file_name}\")\n",
    "    \n",
    "    new_dir = f'interview/{year}年/{month}月'\n",
    "    if not os.path.exists(new_dir):\n",
    "        os.makedirs(new_dir)\n",
    "\n",
    "    dest = f'interview/{year}年/{month}月/{new_file_name}'\n",
    "    shutil.copy(f'memo/{new_file_name}', dest)\n",
    "\n"
   ]
  }
 ],
 "metadata": {
  "kernelspec": {
   "display_name": "venv",
   "language": "python",
   "name": "python3"
  },
  "language_info": {
   "codemirror_mode": {
    "name": "ipython",
    "version": 3
   },
   "file_extension": ".py",
   "mimetype": "text/x-python",
   "name": "python",
   "nbconvert_exporter": "python",
   "pygments_lexer": "ipython3",
   "version": "3.13.4"
  }
 },
 "nbformat": 4,
 "nbformat_minor": 5
}
